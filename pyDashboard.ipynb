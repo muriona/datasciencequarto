{
 "cells": [
  {
   "cell_type": "raw",
   "id": "b12b51fb-f8b5-42b4-97e4-e8b3b025a920",
   "metadata": {},
   "source": [
    "---\n",
    "title: \"teste\"\n",
    "format: dashboard\n",
    "---"
   ]
  },
  {
   "cell_type": "markdown",
   "id": "57c38cf9-aa64-42e8-aabc-280cabe2cc25",
   "metadata": {},
   "source": [
    "## Row"
   ]
  },
  {
   "cell_type": "code",
   "execution_count": null,
   "id": "fc586f6a-c366-47da-8a0a-6aa4d0aaf208",
   "metadata": {},
   "outputs": [],
   "source": [
    "print(\"Hello from Row 1\")"
   ]
  },
  {
   "cell_type": "markdown",
   "id": "d8865cad-b5f3-4056-9865-93762ec287f8",
   "metadata": {},
   "source": [
    "## Row"
   ]
  },
  {
   "cell_type": "code",
   "execution_count": null,
   "id": "cf06d889-cfd1-457d-8cba-00de6d491969",
   "metadata": {},
   "outputs": [],
   "source": [
    "print(\"Hello from Row 2\")"
   ]
  },
  {
   "cell_type": "code",
   "execution_count": null,
   "id": "4705e649-903c-4628-9d2a-e62f43c98dae",
   "metadata": {},
   "outputs": [],
   "source": []
  }
 ],
 "metadata": {
  "kernelspec": {
   "display_name": "Python 3 (ipykernel)",
   "language": "python",
   "name": "python3"
  },
  "language_info": {
   "codemirror_mode": {
    "name": "ipython",
    "version": 3
   },
   "file_extension": ".py",
   "mimetype": "text/x-python",
   "name": "python",
   "nbconvert_exporter": "python",
   "pygments_lexer": "ipython3",
   "version": "3.8.2"
  }
 },
 "nbformat": 4,
 "nbformat_minor": 5
}
