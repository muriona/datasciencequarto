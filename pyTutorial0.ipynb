{
  "cells": [
    {
      "cell_type": "raw",
      "metadata": {},
      "source": [
        "---\n",
        "title: Datasets - 2025.1\n",
        "---"
      ],
      "id": "91e4eab8"
    },
    {
      "cell_type": "markdown",
      "metadata": {},
      "source": [
        "Os datasets para este semestre encontram-se disponíveis no Moodle e também aqui:\n"
      ],
      "id": "bd5583e9"
    },
    {
      "cell_type": "code",
      "metadata": {},
      "source": [
        "#| echo: false\n",
        "\n",
        "import os\n",
        "from IPython.display import HTML\n",
        "\n",
        "def create_downloadable_dir_listing(directory, message=\"You can download the data here.\"):\n",
        "    file_list = os.listdir(directory)\n",
        "    html_content = f\"<p>{message}</p><ul>\"\n",
        "    for file in file_list:\n",
        "        html_content += f'<li><a href=\"{directory}/{file}\" download>{file}</a></li>'\n",
        "    html_content += \"</ul>\"\n",
        "    return HTML(html_content) \n",
        "\n",
        "# Example usage\n",
        "create_downloadable_dir_listing(\"2025-1/\", message=\"Você pode baixar os dados aqui.\")"
      ],
      "id": "2ce08583",
      "execution_count": null,
      "outputs": []
    },
    {
      "cell_type": "code",
      "metadata": {},
      "source": [
        "import pandas as pd"
      ],
      "id": "f8691034",
      "execution_count": null,
      "outputs": []
    },
    {
      "cell_type": "markdown",
      "metadata": {},
      "source": [
        "Para ler os arquivos diretamente da nuvem (sem necessidade de fazer download):\n"
      ],
      "id": "7411c9e4"
    },
    {
      "cell_type": "code",
      "metadata": {},
      "source": [
        "df = pd.read_csv('https://eps7008ufsc.netlify.app/2025-1//G06_ufo3.csv')"
      ],
      "id": "d47a880b",
      "execution_count": null,
      "outputs": []
    },
    {
      "cell_type": "markdown",
      "metadata": {},
      "source": [
        "vamos mostrar as primeiras 7 linhas:\n"
      ],
      "id": "0116e924"
    },
    {
      "cell_type": "code",
      "metadata": {},
      "source": [
        "df.head(7)"
      ],
      "id": "14c57ac3",
      "execution_count": null,
      "outputs": []
    }
  ],
  "metadata": {
    "kernelspec": {
      "name": "python3",
      "language": "python",
      "display_name": "Python 3 (ipykernel)"
    }
  },
  "nbformat": 4,
  "nbformat_minor": 5
}